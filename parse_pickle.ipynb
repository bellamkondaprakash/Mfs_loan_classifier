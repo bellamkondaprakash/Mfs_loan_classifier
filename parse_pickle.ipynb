{
 "cells": [
  {
   "cell_type": "code",
   "execution_count": 2,
   "metadata": {},
   "outputs": [],
   "source": [
    "import os"
   ]
  },
  {
   "cell_type": "markdown",
   "metadata": {},
   "source": [
    "def pickle_file(current_dir_path):\n",
    "    for file_path in os.listdir(current_dir_path)  \n",
    "        if file_path.endswith(\".pkl\"):\n",
    "            return file_path"
   ]
  },
  {
   "cell_type": "code",
   "execution_count": 24,
   "metadata": {},
   "outputs": [],
   "source": [
    "def pickle_file(file_loc):\n",
    "    model_file = [file_path for file_path in os.listdir(os.getcwd()) if file_path.endswith(\".pkl\")][0]\n",
    "    model_filePath = os.path.join(file_loc,model_file)\n",
    "    return(model_filePath)"
   ]
  },
  {
   "cell_type": "code",
   "execution_count": null,
   "metadata": {},
   "outputs": [],
   "source": []
  }
 ],
 "metadata": {
  "kernelspec": {
   "display_name": "Python 3",
   "language": "python",
   "name": "python3"
  },
  "language_info": {
   "codemirror_mode": {
    "name": "ipython",
    "version": 3
   },
   "file_extension": ".py",
   "mimetype": "text/x-python",
   "name": "python",
   "nbconvert_exporter": "python",
   "pygments_lexer": "ipython3",
   "version": "3.6.7"
  }
 },
 "nbformat": 4,
 "nbformat_minor": 4
}
