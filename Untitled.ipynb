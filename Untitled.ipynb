{
 "cells": [
  {
   "cell_type": "code",
   "execution_count": 1,
   "metadata": {},
   "outputs": [],
   "source": [
    "import pickle,numpy as nd\n"
   ]
  },
  {
   "cell_type": "markdown",
   "metadata": {},
   "source": [
    "def get_static_data(chars_list,values_list):\n",
    "    \n",
    "    import pickle,numpy as np\n",
    "    \n",
    "    data = np.asarray((chars_list,values_list))\n",
    "    \n",
    "    data_file = 'data.sav'\n",
    "    with open(data_file,'wb') as pickle_file:\n",
    "        pickle.dump(data,pickle_file)\n",
    "    \n",
    "    return(data_file)"
   ]
  },
  {
   "cell_type": "code",
   "execution_count": 3,
   "metadata": {},
   "outputs": [],
   "source": [
    "list_of_chars = ['a','b','c']\n",
    "list_of_values = [1,2,3]\n",
    "#get_static_data(list_of_chars,list_of_values)"
   ]
  },
  {
   "cell_type": "code",
   "execution_count": null,
   "metadata": {},
   "outputs": [],
   "source": [
    "def get_static_data(args):\n",
    "    \n",
    "    import pickle,os\n",
    "    \n",
    "    fileName = [os.path.basename(file_path) for file_path os.listdir(os.getcwd()) if file_path.endswith('.sav')][0]\n",
    "    \n",
    "    current_loc = os.getcwd()\n",
    "    \n",
    "    "
   ]
  },
  {
   "cell_type": "code",
   "execution_count": 9,
   "metadata": {},
   "outputs": [
    {
     "name": "stdout",
     "output_type": "stream",
     "text": [
      "/repos/MFS Loan/data.sav\n"
     ]
    }
   ],
   "source": [
    "import pickle,os\n",
    "    \n",
    "fileName = [os.path.basename(file_path) for file_path in os.listdir(os.getcwd()) if file_path.endswith('.sav')][0]\n",
    "\n",
    "current_loc = os.getcwd()\n",
    "\n",
    "print(os.path.join(current_loc,os.path.basename(fileName)))"
   ]
  },
  {
   "cell_type": "code",
   "execution_count": null,
   "metadata": {},
   "outputs": [],
   "source": []
  }
 ],
 "metadata": {
  "kernelspec": {
   "display_name": "Python 3",
   "language": "python",
   "name": "python3"
  },
  "language_info": {
   "codemirror_mode": {
    "name": "ipython",
    "version": 3
   },
   "file_extension": ".py",
   "mimetype": "text/x-python",
   "name": "python",
   "nbconvert_exporter": "python",
   "pygments_lexer": "ipython3",
   "version": "3.6.7"
  }
 },
 "nbformat": 4,
 "nbformat_minor": 4
}
