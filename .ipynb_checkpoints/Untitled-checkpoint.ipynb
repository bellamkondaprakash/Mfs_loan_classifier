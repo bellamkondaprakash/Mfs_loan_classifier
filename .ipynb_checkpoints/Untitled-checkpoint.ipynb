{
 "cells": [
  {
   "cell_type": "code",
   "execution_count": 9,
   "metadata": {},
   "outputs": [
    {
     "name": "stdout",
     "output_type": "stream",
     "text": [
      "/repos/MFS Loan/data.sav\n"
     ]
    }
   ],
   "source": [
    "import pickle,os\n",
    "    \n",
    "fileName = [os.path.basename(file_path) for file_path in os.listdir(os.getcwd()) if file_path.endswith('.sav')][0]\n",
    "\n",
    "current_loc = os.getcwd()\n",
    "\n",
    "print(os.path.join(current_loc,os.path.basename(fileName)))"
   ]
  },
  {
   "cell_type": "code",
   "execution_count": null,
   "metadata": {},
   "outputs": [],
   "source": []
  }
 ],
 "metadata": {
  "kernelspec": {
   "display_name": "Python 3",
   "language": "python",
   "name": "python3"
  },
  "language_info": {
   "codemirror_mode": {
    "name": "ipython",
    "version": 3
   },
   "file_extension": ".py",
   "mimetype": "text/x-python",
   "name": "python",
   "nbconvert_exporter": "python",
   "pygments_lexer": "ipython3",
   "version": "3.6.7"
  }
 },
 "nbformat": 4,
 "nbformat_minor": 4
}
